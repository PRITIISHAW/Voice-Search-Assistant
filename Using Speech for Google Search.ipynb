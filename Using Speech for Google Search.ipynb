{
 "cells": [
  {
   "cell_type": "code",
   "execution_count": 4,
   "metadata": {},
   "outputs": [
    {
     "name": "stdout",
     "output_type": "stream",
     "text": [
      "Speak Anything:\n",
      "Done!\n",
      "You said : data structures and algorithms\n"
     ]
    }
   ],
   "source": [
    "import speech_recognition as sr\n",
    "import webbrowser\n",
    "\n",
    "sr.Microphone(device_index=1)\n",
    "\n",
    "r=sr.Recognizer()\n",
    "\n",
    "\n",
    "r.energy_threshold=5000\n",
    "\n",
    "with sr.Microphone() as source:\n",
    "    print(\"Speak Anything:\")\n",
    "    audio=r.listen(source)\n",
    "    print(\"Done!\")\n",
    "    try:\n",
    "        text=r.recognize_google(audio)\n",
    "        print(\"You said : {}\".format(text))\n",
    "        url='https://www.google.co.in/search?q='\n",
    "        search_url=url+text\n",
    "        webbrowser.open(search_url)\n",
    "    except:\n",
    "        print(\"Sorry could not recognize your voice\")"
   ]
  },
  {
   "cell_type": "code",
   "execution_count": null,
   "metadata": {},
   "outputs": [],
   "source": []
  }
 ],
 "metadata": {
  "kernelspec": {
   "display_name": "Python 3",
   "language": "python",
   "name": "python3"
  },
  "language_info": {
   "codemirror_mode": {
    "name": "ipython",
    "version": 3
   },
   "file_extension": ".py",
   "mimetype": "text/x-python",
   "name": "python",
   "nbconvert_exporter": "python",
   "pygments_lexer": "ipython3",
   "version": "3.6.8"
  }
 },
 "nbformat": 4,
 "nbformat_minor": 2
}
